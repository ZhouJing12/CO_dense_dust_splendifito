{
 "cells": [
  {
   "cell_type": "code",
   "execution_count": 1,
   "id": "74372557-5e19-4c4c-94f2-b648cb96326d",
   "metadata": {},
   "outputs": [],
   "source": [
    "import numpy as np\n",
    "import emcee\n",
    "from my_script import run_myradex_of,mol_data"
   ]
  },
  {
   "cell_type": "markdown",
   "id": "70264759-8b4f-471f-84ba-afe05c631c73",
   "metadata": {},
   "source": [
    "### Papadopoulos et al. 2014 ###"
   ]
  },
  {
   "cell_type": "code",
   "execution_count": 2,
   "id": "c06ca5be-f74f-49a5-9786-6b35e0e59dd5",
   "metadata": {},
   "outputs": [],
   "source": [
    "Tkin=10**2.6\n",
    "nH2=10**4\n",
    "Kvir=10\n",
    "size=214\n",
    "Tdust=30\n",
    "ropH2=3\n",
    "abundance_Cp=np.array([3e-4,1e-5,1e-6])              # CII abundance\n",
    "abundance_O=2.9e-4\n",
    "nelec=abundance_Cp*2*nH2                             # electron density"
   ]
  },
  {
   "cell_type": "code",
   "execution_count": 3,
   "id": "f05009c3-a553-4b42-b27b-245565b16648",
   "metadata": {},
   "outputs": [
    {
     "data": {
      "text/plain": [
       "array([1.82332223e-19, 3.65879740e-20, 7.32024111e-21])"
      ]
     },
     "execution_count": 3,
     "metadata": {},
     "output_type": "execute_result"
    }
   ],
   "source": [
    "G_FUV=5645*(Tdust/50)**6                             # eq.3\n",
    "gamma=(G_FUV*Tkin**0.5)/nelec\n",
    "epsilon_ph=4.9e-2/(1+4e-3*gamma**0.73)+3.65e-2*(Tkin/1e4)**0.7/(1+2e-4*gamma)\n",
    "Gamma_pe=2e-24*epsilon_ph*nH2*G_FUV\n",
    "Gamma_pe"
   ]
  },
  {
   "cell_type": "code",
   "execution_count": 4,
   "id": "972295b2-4c88-477d-b528-7dcfd629c871",
   "metadata": {},
   "outputs": [
    {
     "data": {
      "text/plain": [
       "1.0282585113853013e-20"
      ]
     },
     "execution_count": 4,
     "metadata": {},
     "output_type": "execute_result"
    }
   ],
   "source": [
    "f_g_d=Tkin/Tdust\n",
    "Lambda_g_d=1.4e-32*nH2**2*(f_g_d-1)/f_g_d*Tkin**1.5\n",
    "Lambda_g_d"
   ]
  },
  {
   "cell_type": "code",
   "execution_count": 5,
   "id": "01a0475f-05cd-42f0-96ea-ee0053ad2b7e",
   "metadata": {},
   "outputs": [],
   "source": [
    "co_mol=mol_data('/home/zj/Documents/radex_mol/','co.dat')\n",
    "Tbs=run_myradex_of(Tkin=Tkin,nH2=nH2,abundance_Kvir=1e-4/Kvir,molecule=co_mol)[0]"
   ]
  },
  {
   "cell_type": "code",
   "execution_count": 6,
   "id": "c032805a-4e13-4ba1-b100-8a871f50de47",
   "metadata": {},
   "outputs": [],
   "source": [
    "lum_Lsun=2*co_mol.rad_data[:,3]**2*1.380649e-16/3e10**2*Tbs*np.pi/4/np.log(2)*(size*3.08e18)**2*(300/3e5*co_mol.rad_data[:,3])/3.8263e33\n",
    "Ncol=3.08e18*nH2/Kvir*1/(0.65*1.5**0.5*(nH2/1e3)**0.5)\n",
    "mass=Ncol*(2*1.66053904e-24)*np.pi/4/np.log(2)*size**2*3.08567758e18**2/1.98855e33\n",
    "Lambda_CO=8.77e-33*nH2*np.sum(lum_Lsun)/mass*1e9"
   ]
  },
  {
   "cell_type": "code",
   "execution_count": 7,
   "id": "3757c77f-c32c-4c1e-86ad-534f03637a14",
   "metadata": {},
   "outputs": [
    {
     "data": {
      "text/plain": [
       "array([1.88004183e-18, 6.26680610e-20, 6.26680610e-21])"
      ]
     },
     "execution_count": 7,
     "metadata": {},
     "output_type": "execute_result"
    }
   ],
   "source": [
    "Lambda_Cp=7.9e-23*abundance_Cp*nH2**2*np.exp(-92.2/Tkin)\n",
    "Lambda_Cp"
   ]
  },
  {
   "cell_type": "code",
   "execution_count": 8,
   "id": "b7cf3d07-904a-4cd4-97e0-26fe73fbd7b7",
   "metadata": {},
   "outputs": [
    {
     "data": {
      "text/plain": [
       "2.521732502963257e-19"
      ]
     },
     "execution_count": 8,
     "metadata": {},
     "output_type": "execute_result"
    }
   ],
   "source": [
    "Lambda_Oi=2.27e-24*abundance_O*nH2**2*Tkin**0.32*np.exp(-228/Tkin)\n",
    "Lambda_Oi"
   ]
  },
  {
   "cell_type": "code",
   "execution_count": 9,
   "id": "388753dc-7bae-4106-8586-6635f4441fd4",
   "metadata": {},
   "outputs": [
    {
     "data": {
      "text/plain": [
       "8.68468331985239e-20"
      ]
     },
     "execution_count": 9,
     "metadata": {},
     "output_type": "execute_result"
    }
   ],
   "source": [
    "R10=26.8*ropH2*(1+1/5*np.exp(510/Tkin)*(1+54/nH2))/(1+3/7*np.exp(845/Tkin)*(1+1e3/nH2))\n",
    "Lambda_H2=2.06e-24*nH2/(1+ropH2)/(1+1/5*np.exp(510/Tkin)*(1+54/nH2))*(1+R10)\n",
    "Lambda_H2"
   ]
  },
  {
   "cell_type": "code",
   "execution_count": 10,
   "id": "e23481fb-2d4d-4ae0-910b-71d631ed703d",
   "metadata": {},
   "outputs": [
    {
     "data": {
      "text/plain": [
       "array([0.05000109, 0.02000227, 0.00412922])"
      ]
     },
     "execution_count": 10,
     "metadata": {},
     "output_type": "execute_result"
    }
   ],
   "source": [
    "Y_factor=Gamma_pe/(Lambda_g_d+Lambda_CO+Lambda_Cp+Lambda_Oi+Lambda_H2)\n",
    "Y_factor"
   ]
  },
  {
   "cell_type": "code",
   "execution_count": null,
   "id": "7d83094e-9173-47f2-b862-04c9b1653a81",
   "metadata": {},
   "outputs": [],
   "source": []
  }
 ],
 "metadata": {
  "kernelspec": {
   "display_name": "Python 3 (ipykernel)",
   "language": "python",
   "name": "python3"
  },
  "language_info": {
   "codemirror_mode": {
    "name": "ipython",
    "version": 3
   },
   "file_extension": ".py",
   "mimetype": "text/x-python",
   "name": "python",
   "nbconvert_exporter": "python",
   "pygments_lexer": "ipython3",
   "version": "3.8.10"
  }
 },
 "nbformat": 4,
 "nbformat_minor": 5
}
